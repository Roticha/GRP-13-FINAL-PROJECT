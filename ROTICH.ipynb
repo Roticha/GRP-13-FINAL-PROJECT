{
 "cells": [
  {
   "cell_type": "markdown",
   "metadata": {},
   "source": [
    "# Sentiment Flow – Understanding Twitter Sentiment on Apple and Google Products"
   ]
  },
  {
   "cell_type": "markdown",
   "metadata": {},
   "source": [
    "## Introduction\n",
    "In an era where public opinion on products can influence brand perception, companies increasingly rely on sentiment analysis to capture real-time customer feedback. This project aims to classify Twitter sentiment related to Apple and Google products. By using sentiment polarity classification, this analysis seeks to provide actionable insights into customer satisfaction and emerging issues, helping brands like Apple and Google make data-driven decisions regarding product improvements, customer support strategies, and marketing efforts.\n",
    "\n",
    "## Business Understanding\n",
    "This project focuses on classifying the sentiment of tweets concerning Apple and Google products. Through sentiment polarity classification, we aim to provide insights that aid in understanding customer satisfaction, identifying issues, and informing strategic responses.\n",
    "\n",
    "#### 1. Problem Statement: \n",
    "We aim to classify tweet sentiments as positive, negative, or neutral, providing insights into public perception of Apple and Google products.\n",
    "\n",
    "#### 2. Audience: \n",
    "The primary stakeholders are the product, marketing, and customer support teams at Apple and Google.\n",
    "\n",
    "#### 3. Impact: \n",
    "The sentiment analysis results will enable Apple and Google to better understand customer opinions, proactively address issues, and enhance product development and customer engagement."
   ]
  },
  {
   "cell_type": "markdown",
   "metadata": {},
   "source": [
    "#### 2. Stakeholders (by Angela)\n",
    "1. The companies: Apple & Google- Considering these companies are direcly affected by the sentiment, it is important for them to gauge the perception of their products so as to identify the areas of improvement.\n",
    "\n",
    "2. Marketing teams- this sentiment analysis and model can help them respond to negative feedback, adjust their marketing campaigns and highlight the positive aspects of their products.\n",
    "\n",
    "3. The customer support teams &decision makers- the sentiment analysis is important for they can use it to improve product development, customer support and brand reputation.\n"
   ]
  },
  {
   "cell_type": "markdown",
   "metadata": {},
   "source": [
    "## Data Understanding\n",
    "This dataset was sourced from CrowdFlower (via data.world) and includes user-assessed sentiment for tweets about Apple and Google products."
   ]
  },
  {
   "cell_type": "markdown",
   "metadata": {},
   "source": [
    "## Data Understanding (Angela's suggestion)\n",
    "\n",
    "The dataset, sourced from CrowdFlower via data.world, consists of tweets where contributors evaluated the sentiment expressed toward different brands and products. Each tweet is annotated based on the sentiment (positive, negative, or neutral) and, where applicable, the specific brand or product the sentiment is directed at.\n",
    "\n",
    "### Data Suitability\n",
    "This dataset is well-suited to our project for several reasons:\n",
    "\n",
    "1. Relevance: The data focuses on sentiments toward brands and products, aligning closely with our objective of analyzing Twitter sentiment specifically for Apple and Google products.\n",
    "\n",
    "2. Real-World Context: The tweets reflect genuine user opinions, adding practical value to our sentiment analysis project.\n",
    "\n",
    "3. Multiclass Capability: With sentiment labels as positive, negative, and neutral, the dataset enables us to develop both binary (positive/negative) and multiclass (positive/negative/neutral) classification models.\n",
    "\n",
    "3. Dataset Composition\n",
    "The dataset includes over 9,000 labeled tweets, allowing for a comprehensive exploration of sentiment distribution and linguistic patterns.\n",
    "\n",
    "\n",
    "### Feature Selection\n",
    "The tweet content is our primary feature, while the sentiment and target brand/product labels are essential for building and evaluating our classifiers.\n",
    "\n"
   ]
  },
  {
   "cell_type": "markdown",
   "metadata": {},
   "source": [
    "### 1. Load the Dataset"
   ]
  },
  {
   "cell_type": "code",
   "execution_count": 1,
   "metadata": {},
   "outputs": [
    {
     "data": {
      "text/html": [
       "<div>\n",
       "<style scoped>\n",
       "    .dataframe tbody tr th:only-of-type {\n",
       "        vertical-align: middle;\n",
       "    }\n",
       "\n",
       "    .dataframe tbody tr th {\n",
       "        vertical-align: top;\n",
       "    }\n",
       "\n",
       "    .dataframe thead th {\n",
       "        text-align: right;\n",
       "    }\n",
       "</style>\n",
       "<table border=\"1\" class=\"dataframe\">\n",
       "  <thead>\n",
       "    <tr style=\"text-align: right;\">\n",
       "      <th></th>\n",
       "      <th>tweet_text</th>\n",
       "      <th>emotion_in_tweet_is_directed_at</th>\n",
       "      <th>is_there_an_emotion_directed_at_a_brand_or_product</th>\n",
       "    </tr>\n",
       "  </thead>\n",
       "  <tbody>\n",
       "    <tr>\n",
       "      <th>0</th>\n",
       "      <td>.@wesley83 I have a 3G iPhone. After 3 hrs twe...</td>\n",
       "      <td>iPhone</td>\n",
       "      <td>Negative emotion</td>\n",
       "    </tr>\n",
       "    <tr>\n",
       "      <th>1</th>\n",
       "      <td>@jessedee Know about @fludapp ? Awesome iPad/i...</td>\n",
       "      <td>iPad or iPhone App</td>\n",
       "      <td>Positive emotion</td>\n",
       "    </tr>\n",
       "    <tr>\n",
       "      <th>2</th>\n",
       "      <td>@swonderlin Can not wait for #iPad 2 also. The...</td>\n",
       "      <td>iPad</td>\n",
       "      <td>Positive emotion</td>\n",
       "    </tr>\n",
       "    <tr>\n",
       "      <th>3</th>\n",
       "      <td>@sxsw I hope this year's festival isn't as cra...</td>\n",
       "      <td>iPad or iPhone App</td>\n",
       "      <td>Negative emotion</td>\n",
       "    </tr>\n",
       "    <tr>\n",
       "      <th>4</th>\n",
       "      <td>@sxtxstate great stuff on Fri #SXSW: Marissa M...</td>\n",
       "      <td>Google</td>\n",
       "      <td>Positive emotion</td>\n",
       "    </tr>\n",
       "  </tbody>\n",
       "</table>\n",
       "</div>"
      ],
      "text/plain": [
       "                                          tweet_text  \\\n",
       "0  .@wesley83 I have a 3G iPhone. After 3 hrs twe...   \n",
       "1  @jessedee Know about @fludapp ? Awesome iPad/i...   \n",
       "2  @swonderlin Can not wait for #iPad 2 also. The...   \n",
       "3  @sxsw I hope this year's festival isn't as cra...   \n",
       "4  @sxtxstate great stuff on Fri #SXSW: Marissa M...   \n",
       "\n",
       "  emotion_in_tweet_is_directed_at  \\\n",
       "0                          iPhone   \n",
       "1              iPad or iPhone App   \n",
       "2                            iPad   \n",
       "3              iPad or iPhone App   \n",
       "4                          Google   \n",
       "\n",
       "  is_there_an_emotion_directed_at_a_brand_or_product  \n",
       "0                                   Negative emotion  \n",
       "1                                   Positive emotion  \n",
       "2                                   Positive emotion  \n",
       "3                                   Negative emotion  \n",
       "4                                   Positive emotion  "
      ]
     },
     "execution_count": 1,
     "metadata": {},
     "output_type": "execute_result"
    }
   ],
   "source": [
    "import pandas as pd\n",
    "\n",
    "# Load the dataset\n",
    "file_path = 'judge_tweet_product_company.csv'\n",
    "\n",
    "# Our dataset contains special characters or a non-standard encoding.\n",
    "# We solved this by reading the file using different encoding \"ISO-8859-1\"\n",
    "data = pd.read_csv(file_path, encoding='ISO-8859-1')\n",
    "\n",
    "# Display the first few rows to understand the structure\n",
    "data.head()\n"
   ]
  },
  {
   "cell_type": "markdown",
   "metadata": {},
   "source": [
    "#### 1.1 Dataset Preview:\n",
    "\n",
    "Key columns in this dataset:\n",
    "- tweet_text: The actual tweet content.\n",
    "- emotion_in_tweet_is_directed_at: Indicates the brand or product mentioned.\n",
    "- is_there_an_emotion_directed_at_a_brand_or_product: Specifies the sentiment (positive, negative, or neutral).\n",
    "\n",
    "\n",
    "### Descriptive Features (Angela's suggestion)\n",
    "The dataset contains the following key features:\n",
    "\n",
    "1. tweet_text: The actual tweet content.\n",
    "2. is_there_an_emotion_directed_at_a_brand_or_product: A label indicating sentiment - either no emotion, positive, negative, or unclear.\n",
    "3. emotion_in_tweet_is_directed_at: Specifies the brand or product targeted by the sentiment.\n"
   ]
  },
  {
   "cell_type": "markdown",
   "metadata": {},
   "source": [
    "### 2. Exploratory Data Analysis\n",
    "\n",
    "#### ( Angela's suggestion : to print columns with their unique values )"
   ]
  },
  {
   "cell_type": "code",
   "execution_count": 2,
   "metadata": {},
   "outputs": [
    {
     "name": "stdout",
     "output_type": "stream",
     "text": [
      "<class 'pandas.core.frame.DataFrame'>\n",
      "RangeIndex: 9093 entries, 0 to 9092\n",
      "Data columns (total 3 columns):\n",
      " #   Column                                              Non-Null Count  Dtype \n",
      "---  ------                                              --------------  ----- \n",
      " 0   tweet_text                                          9092 non-null   object\n",
      " 1   emotion_in_tweet_is_directed_at                     3291 non-null   object\n",
      " 2   is_there_an_emotion_directed_at_a_brand_or_product  9093 non-null   object\n",
      "dtypes: object(3)\n",
      "memory usage: 213.2+ KB\n"
     ]
    },
    {
     "data": {
      "text/plain": [
       "(None,\n",
       " tweet_text                                               1\n",
       " emotion_in_tweet_is_directed_at                       5802\n",
       " is_there_an_emotion_directed_at_a_brand_or_product       0\n",
       " dtype: int64,\n",
       "                                                tweet_text  \\\n",
       " count                                                9092   \n",
       " unique                                               9065   \n",
       " top     RT @mention Marissa Mayer: Google Will Connect...   \n",
       " freq                                                    5   \n",
       " \n",
       "        emotion_in_tweet_is_directed_at  \\\n",
       " count                             3291   \n",
       " unique                               9   \n",
       " top                               iPad   \n",
       " freq                               946   \n",
       " \n",
       "        is_there_an_emotion_directed_at_a_brand_or_product  \n",
       " count                                                9093  \n",
       " unique                                                  4  \n",
       " top                    No emotion toward brand or product  \n",
       " freq                                                 5389  )"
      ]
     },
     "execution_count": 2,
     "metadata": {},
     "output_type": "execute_result"
    }
   ],
   "source": [
    "# Checking data types, missing values, and summary statistics for initial exploration\n",
    "data_info = data.info()\n",
    "missing_values = data.isnull().sum()\n",
    "basic_statistics = data.describe(include='all')\n",
    "\n",
    "# Displaying the results\n",
    "data_info, missing_values, basic_statistics\n"
   ]
  },
  {
   "cell_type": "markdown",
   "metadata": {},
   "source": [
    "#### 2.1 Data Summary\n",
    "#####  - Dataset Size: \n",
    "9,093 tweets, each with sentiment labels.\n",
    "\n",
    "#####  - Columns:\n",
    "- tweet_text: Contains unique tweets, with 9,065 unique entries.\n",
    "- emotion_in_tweet_is_directed_at: Specifies the product/brand targeted in the tweet (3,291 non-null values, so 5,802 entries are missing here).\n",
    "- is_there_an_emotion_directed_at_a_brand_or_product: Indicates sentiment with four categories: Positive, Negative, Neutral, or No emotion toward brand or product.\n",
    "\n",
    "#####  - Data Quality Observations:\n",
    "- Missing values in emotion_in_tweet_is_directed_at need handling, either through imputation or filtering.\n",
    "- Class imbalance in is_there_an_emotion_directed_at_a_brand_or_product, with \"No emotion\" being the most frequent label."
   ]
  },
  {
   "cell_type": "markdown",
   "metadata": {},
   "source": [
    "#### 2.2 Sentiment Distribution and Targeted Brands\n",
    "\n",
    "- Sentiment Distribution: We visualized the distribution of sentiment labels to confirm the class imbalance.\n",
    "- Targeted Brand Analysis: We also identified the distribution of Apple vs. Google mentions.\n",
    "\n",
    "\n",
    "#### Angela's Suggestion (to do this after cleaning under visualizations)"
   ]
  },
  {
   "cell_type": "code",
   "execution_count": 3,
   "metadata": {},
   "outputs": [
    {
     "data": {
      "image/png": "[encoded data removed]",
      "text/plain": [
       "<Figure size 864x432 with 1 Axes>"
      ]
     },
     "metadata": {
      "needs_background": "light"
     },
     "output_type": "display_data"
    },
    {
     "data": {
      "image/png": "[encoded data removed]",
      "text/plain": [
       "<Figure size 864x432 with 1 Axes>"
      ]
     },
     "metadata": {
      "needs_background": "light"
     },
     "output_type": "display_data"
    }
   ],
   "source": [
    "import matplotlib.pyplot as plt\n",
    "import seaborn as sns\n",
    "\n",
    "# Plotting sentiment distribution\n",
    "plt.figure(figsize=(12, 6))\n",
    "sns.countplot(data=data, x='is_there_an_emotion_directed_at_a_brand_or_product', palette=\"viridis\")\n",
    "plt.title('Distribution of Sentiments Directed at a Brand or Product')\n",
    "plt.xlabel('Sentiment Category')\n",
    "plt.ylabel('Tweet Count')\n",
    "plt.xticks(rotation=45)\n",
    "plt.show()\n",
    "\n",
    "# Plotting targeted brands/products\n",
    "plt.figure(figsize=(12, 6))\n",
    "sns.countplot(data=data, x='emotion_in_tweet_is_directed_at', palette=\"viridis\", \n",
    "              order=data['emotion_in_tweet_is_directed_at'].value_counts().index)\n",
    "plt.title('Targeted Brands/Products in Tweets')\n",
    "plt.xlabel('Targeted Brand/Product')\n",
    "plt.ylabel('Tweet Count')\n",
    "plt.xticks(rotation=45)\n",
    "plt.show()\n"
   ]
  },
  {
   "cell_type": "markdown",
   "metadata": {},
   "source": [
    "### 3. Text Preprocessing Needs: \n",
    "We will examine tweet samples to determine necessary cleaning steps, such as removing URLs, special characters, etc."
   ]
  },
  {
   "cell_type": "markdown",
   "metadata": {},
   "source": [
    "#### 3.1 Viewing Sample Text Data"
   ]
  },
  {
   "cell_type": "code",
   "execution_count": 4,
   "metadata": {},
   "outputs": [
    {
     "data": {
      "text/plain": [
       "254     iPad 2 vs Android vs The World : Panel at #SXS...\n",
       "2450    &quot;iPad Design Headaches (2 Tablets, Call i...\n",
       "5772    RT @mention Get it while it's hot! Latest vers...\n",
       "3813             Win free ipad 2 from webdoc.com #sxsw RT\n",
       "3427    Apple to have a pop-up store at South by South...\n",
       "8431           Just saw the Google Streetvview car. #sxsw\n",
       "1956    DL the #Calyp App today! Avail in the iTunes A...\n",
       "1145    View from the back of the line to get into Lea...\n",
       "5519    RT @mention At #SXSW? Your mission is to downl...\n",
       "4277    Google's Marissa Mayer Says Location Is Everyt...\n",
       "Name: tweet_text, dtype: object"
      ]
     },
     "execution_count": 4,
     "metadata": {},
     "output_type": "execute_result"
    }
   ],
   "source": [
    "# Display a sample of tweets to visually inspect for any common patterns\n",
    "data['tweet_text'].sample(10, random_state=1)\n"
   ]
  },
  {
   "cell_type": "markdown",
   "metadata": {},
   "source": [
    "#### 3.2 Checking for URLs, Hashtags, and Mentions\n",
    "From the sample tweets, there seems to be hashtags (#) and mentions (@). Let's proceed to check for them in the dataset. They are irrelevant to sentiment and need to be removed"
   ]
  },
  {
   "cell_type": "code",
   "execution_count": 5,
   "metadata": {},
   "outputs": [
    {
     "name": "stdout",
     "output_type": "stream",
     "text": [
      "Tweets with URLs: 25\n",
      "Tweets with hashtags: 9086\n",
      "Tweets with mentions: 4919\n"
     ]
    }
   ],
   "source": [
    "import re\n",
    "\n",
    "# Check for URLs in tweets\n",
    "data['has_url'] = data['tweet_text'].apply(lambda x: bool(re.search(r'http[s]?://', str(x))))\n",
    "print(\"Tweets with URLs:\", data['has_url'].sum())\n",
    "\n",
    "# Check for hashtags in tweets\n",
    "data['has_hashtag'] = data['tweet_text'].apply(lambda x: bool(re.search(r'#\\w+', str(x))))\n",
    "print(\"Tweets with hashtags:\", data['has_hashtag'].sum())\n",
    "\n",
    "# Check for mentions in tweets\n",
    "data['has_mention'] = data['tweet_text'].apply(lambda x: bool(re.search(r'@\\w+', str(x))))\n",
    "print(\"Tweets with mentions:\", data['has_mention'].sum())\n"
   ]
  },
  {
   "cell_type": "markdown",
   "metadata": {},
   "source": [
    "The results suggest that our dataset has a significant number of hashtags (9,086), mentions (4,919), and a smaller number of URLs (25) which need to be removed during data cleaning."
   ]
  },
  {
   "cell_type": "markdown",
   "metadata": {},
   "source": [
    "#### 3.3 Checking for Special Characters or Numbers"
   ]
  },
  {
   "cell_type": "code",
   "execution_count": 6,
   "metadata": {},
   "outputs": [
    {
     "name": "stdout",
     "output_type": "stream",
     "text": [
      "Tweets with special characters or numbers: 9092\n"
     ]
    }
   ],
   "source": [
    "# Check for special characters and numbers\n",
    "data['has_special_chars'] = data['tweet_text'].apply(lambda x: bool(re.search(r'[^a-zA-Z\\s]', str(x))))\n",
    "print(\"Tweets with special characters or numbers:\", data['has_special_chars'].sum())\n"
   ]
  },
  {
   "cell_type": "markdown",
   "metadata": {},
   "source": [
    "There are significant special characters or numbers in our text. We need to clean out any extraneous characters that don't contribute to sentiment."
   ]
  },
  {
   "cell_type": "markdown",
   "metadata": {},
   "source": [
    "#### 3.4 Examining Text Length\n",
    "Short tweets may lack sufficient context for sentiment analysis, while overly long ones could indicate issues with text truncation or noise."
   ]
  },
  {
   "cell_type": "code",
   "execution_count": 7,
   "metadata": {},
   "outputs": [
    {
     "name": "stdout",
     "output_type": "stream",
     "text": [
      "count    9093.000000\n",
      "mean      104.972176\n",
      "std        27.207614\n",
      "min         0.000000\n",
      "25%        86.000000\n",
      "50%       109.000000\n",
      "75%       126.000000\n",
      "max       178.000000\n",
      "Name: text_length, dtype: float64\n"
     ]
    }
   ],
   "source": [
    "# We had 1 missing value in the tweet_text column which is a float and do not have a length. \n",
    "# Let's replace it with an empty string to avoid an error\n",
    "\n",
    "# Replace NaN values in 'tweet_text' with an empty string\n",
    "data['tweet_text'] = data['tweet_text'].fillna(\"\")\n",
    "\n",
    "# Check the length of each tweet\n",
    "data['text_length'] = data['tweet_text'].apply(len)\n",
    "print(data['text_length'].describe())\n",
    "\n"
   ]
  },
  {
   "cell_type": "markdown",
   "metadata": {},
   "source": [
    "The mean and median tweet lengths are close, indicating a roughly normal distribution of tweet lengths, with most tweets falling between 86 and 126 characters."
   ]
  },
  {
   "cell_type": "markdown",
   "metadata": {},
   "source": [
    "## Data Cleaning"
   ]
  },
  {
   "cell_type": "code",
   "execution_count": null,
   "metadata": {},
   "outputs": [],
   "source": []
  }
 ],
 "metadata": {
  "kernelspec": {
   "display_name": "Python 3",
   "language": "python",
   "name": "python3"
  },
  "language_info": {
   "codemirror_mode": {
    "name": "ipython",
    "version": 3
   },
   "file_extension": ".py",
   "mimetype": "text/x-python",
   "name": "python",
   "nbconvert_exporter": "python",
   "pygments_lexer": "ipython3",
   "version": "3.8.5"
  }
 },
 "nbformat": 4,
 "nbformat_minor": 2
}
